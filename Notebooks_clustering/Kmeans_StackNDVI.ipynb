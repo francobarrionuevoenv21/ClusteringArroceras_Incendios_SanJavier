{
  "cells": [
    {
      "cell_type": "markdown",
      "id": "2a97854e-1104-414c-8369-50568dcb916a",
      "metadata": {
        "id": "2a97854e-1104-414c-8369-50568dcb916a"
      },
      "source": [
        "# Clasificación no supervisada con serie temporal NDVI de Terra/MODIS"
      ]
    },
    {
      "cell_type": "code",
      "source": [
        "!pip install rasterio"
      ],
      "metadata": {
        "id": "b5tWjYqh_9XX"
      },
      "id": "b5tWjYqh_9XX",
      "execution_count": null,
      "outputs": []
    },
    {
      "cell_type": "markdown",
      "id": "037221fb-50e6-4b34-a7d9-1c849edc0dbf",
      "metadata": {
        "id": "037221fb-50e6-4b34-a7d9-1c849edc0dbf"
      },
      "source": [
        "### Cargar librerías"
      ]
    },
    {
      "cell_type": "code",
      "execution_count": null,
      "id": "95c7c71e-558b-4e8b-bc8e-a08c34d15cb3",
      "metadata": {
        "execution": {
          "iopub.execute_input": "2024-03-04T20:39:54.521712Z",
          "iopub.status.busy": "2024-03-04T20:39:54.521568Z",
          "iopub.status.idle": "2024-03-04T20:40:27.151349Z",
          "shell.execute_reply": "2024-03-04T20:40:27.151064Z",
          "shell.execute_reply.started": "2024-03-04T20:39:54.521701Z"
        },
        "tags": [],
        "id": "95c7c71e-558b-4e8b-bc8e-a08c34d15cb3"
      },
      "outputs": [],
      "source": [
        "import ee\n",
        "ee.Authenticate()\n",
        "ee.Initialize(project='ee-my-francodbarr')"
      ]
    },
    {
      "cell_type": "code",
      "execution_count": null,
      "id": "60f5e2f5-8601-4509-9132-e1610558357b",
      "metadata": {
        "execution": {
          "iopub.execute_input": "2024-03-04T20:40:53.832518Z",
          "iopub.status.busy": "2024-03-04T20:40:53.832359Z",
          "iopub.status.idle": "2024-03-04T20:40:54.559108Z",
          "shell.execute_reply": "2024-03-04T20:40:54.558733Z",
          "shell.execute_reply.started": "2024-03-04T20:40:53.832505Z"
        },
        "tags": [],
        "id": "60f5e2f5-8601-4509-9132-e1610558357b"
      },
      "outputs": [],
      "source": [
        "#importar librerías\n",
        "\n",
        "import pandas as pd\n",
        "import numpy as np\n",
        "from datetime import datetime as dt\n",
        "import geemap\n",
        "import geopandas as gpd\n",
        "from shapely.geometry import Polygon\n",
        "from shapely.geometry import shape\n",
        "from shapely.geometry import Point\n",
        "import rasterio\n",
        "import random"
      ]
    },
    {
      "cell_type": "markdown",
      "source": [
        "Funciones"
      ],
      "metadata": {
        "id": "_8BVv3sGP8hl"
      },
      "id": "_8BVv3sGP8hl"
    },
    {
      "cell_type": "code",
      "source": [
        "def getCoordsSHP(gdfshpFile):\n",
        "  '''\n",
        "  This function takes a polygon vector layer file passed as a GeoDataFrame. Then\n",
        "  it gets all the coordinates as a tuple of tuples.\n",
        "  '''\n",
        "\n",
        "  gdfiterf = gdfshpFile.iterfeatures()\n",
        "  tupleFile = next(gdfiterf)['geometry']['coordinates']\n",
        "\n",
        "  return tupleFile"
      ],
      "metadata": {
        "id": "kSm4HxJyDdZP"
      },
      "id": "kSm4HxJyDdZP",
      "execution_count": null,
      "outputs": []
    },
    {
      "cell_type": "markdown",
      "id": "180f5571-9ff7-4ea7-b220-d56fa127a7c5",
      "metadata": {
        "id": "180f5571-9ff7-4ea7-b220-d56fa127a7c5"
      },
      "source": [
        "### Seleccionar la colección y filtrarla"
      ]
    },
    {
      "cell_type": "code",
      "execution_count": null,
      "id": "b4c98ad6-9f10-46a4-b4f0-c7d3594dcc4b",
      "metadata": {
        "execution": {
          "iopub.execute_input": "2024-03-04T20:41:09.114747Z",
          "iopub.status.busy": "2024-03-04T20:41:09.114532Z",
          "iopub.status.idle": "2024-03-04T20:41:09.116889Z",
          "shell.execute_reply": "2024-03-04T20:41:09.116644Z",
          "shell.execute_reply.started": "2024-03-04T20:41:09.114726Z"
        },
        "tags": [],
        "id": "b4c98ad6-9f10-46a4-b4f0-c7d3594dcc4b"
      },
      "outputs": [],
      "source": [
        "#selecciona la colección MODIS MOD13Q1 NDVI\n",
        "MODIS = ee.ImageCollection('MODIS/006/MOD13Q1').select('NDVI') ##MOD13Q1.061 Terra Vegetation Indices 16-Day Global 250m\n",
        "\n",
        "## establece el rango de fechas de interés\n",
        "startDate = '2000-02-18'\n",
        "endDate = '2022-12-31' ## la coleccion llega hasta 2023-02-02, aunque se informa que llega hasta julio 2023 (búsqueda agosto)\n",
        "\n",
        "# filtrar por fechas\n",
        "MODIS = MODIS.filterDate(startDate, endDate)"
      ]
    },
    {
      "cell_type": "markdown",
      "source": [
        "### Vector BBSS"
      ],
      "metadata": {
        "id": "Y8rPXhVHP_2f"
      },
      "id": "Y8rPXhVHP_2f"
    },
    {
      "cell_type": "code",
      "source": [
        "!wget https://github.com/francobarrionuevoenv21/ClusteringArroceras_Incendios_SanJavier/blob/main/Primary_data/Planicie_con_paleocauces_NW-SW_4326.geojson"
      ],
      "metadata": {
        "id": "AzsaRp9m5-qR"
      },
      "id": "AzsaRp9m5-qR",
      "execution_count": null,
      "outputs": []
    },
    {
      "cell_type": "code",
      "source": [
        "targetCRS = \"EPSG:4326\"\n",
        "vectorPPCC = gpd.read_file('/content/Planicie_con_paleocauces_NW-SW_4326.geojson').to_crs(targetCRS)"
      ],
      "metadata": {
        "id": "1mp2aXyLAG8F"
      },
      "id": "1mp2aXyLAG8F",
      "execution_count": null,
      "outputs": []
    },
    {
      "cell_type": "code",
      "source": [
        "# El siguiente codigo recupera todas las coordenadas de un vector, y a partir de ellas\n",
        "# crea una lista de tuplas. Con esta lista se genera finalmente un poligono.\n",
        "\n",
        "tupleOfTuples01 = getCoordsSHP(vectorPPCC)\n",
        "\n",
        "# Converting coordinates into a list of lists\n",
        "listOfLists01 = [list(t[:2]) for t in tupleOfTuples01[0]]\n",
        "\n",
        "# Coordinates to a Polygon\n",
        "polygon01 = ee.Geometry.Polygon(listOfLists01)\n",
        "\n",
        "# Polygon to a EE Feature Collection (For plotting the vector of the region)\n",
        "featureCollection01 = ee.FeatureCollection(polygon01)"
      ],
      "metadata": {
        "id": "XY1i9ZRSDf7o"
      },
      "id": "XY1i9ZRSDf7o",
      "execution_count": null,
      "outputs": []
    },
    {
      "cell_type": "code",
      "execution_count": null,
      "id": "1f145dcc-3a79-4430-9d86-fbb9fca15421",
      "metadata": {
        "execution": {
          "iopub.execute_input": "2024-03-04T20:43:23.732387Z",
          "iopub.status.busy": "2024-03-04T20:43:23.732247Z",
          "iopub.status.idle": "2024-03-04T20:43:25.231874Z",
          "shell.execute_reply": "2024-03-04T20:43:25.231566Z",
          "shell.execute_reply.started": "2024-03-04T20:43:23.732376Z"
        },
        "tags": [],
        "id": "1f145dcc-3a79-4430-9d86-fbb9fca15421"
      },
      "outputs": [],
      "source": [
        "# ver tamaño de la colección - es una colección con 528 elementos en mi área de prueba - 526 si dejo hasta diciembre 2022\n",
        "MODIS"
      ]
    },
    {
      "cell_type": "code",
      "execution_count": null,
      "id": "e96358c4-d132-46fe-9270-b6a538a1cd73",
      "metadata": {
        "execution": {
          "iopub.execute_input": "2024-03-04T20:47:53.655071Z",
          "iopub.status.busy": "2024-03-04T20:47:53.654920Z",
          "iopub.status.idle": "2024-03-04T20:47:53.658519Z",
          "shell.execute_reply": "2024-03-04T20:47:53.658161Z",
          "shell.execute_reply.started": "2024-03-04T20:47:53.655061Z"
        },
        "tags": [],
        "id": "e96358c4-d132-46fe-9270-b6a538a1cd73"
      },
      "outputs": [],
      "source": [
        "# Define a function to unmask the NDVI band\n",
        "def unmaskNDVI(image):\n",
        "    return image.select('NDVI').unmask(-2000)\n",
        "\n",
        "# Map the unmask function over the entire collection\n",
        "MODIS_unmasked = MODIS.map(unmaskNDVI)"
      ]
    },
    {
      "cell_type": "code",
      "execution_count": null,
      "id": "371e78f1-8b8b-40ea-b867-fe0debba660d",
      "metadata": {
        "execution": {
          "iopub.execute_input": "2024-03-04T20:48:08.062671Z",
          "iopub.status.busy": "2024-03-04T20:48:08.062505Z",
          "iopub.status.idle": "2024-03-04T20:48:09.542990Z",
          "shell.execute_reply": "2024-03-04T20:48:09.542277Z",
          "shell.execute_reply.started": "2024-03-04T20:48:08.062659Z"
        },
        "tags": [],
        "id": "371e78f1-8b8b-40ea-b867-fe0debba660d"
      },
      "outputs": [],
      "source": [
        "# Convertir la colección a un stack - una imagen de NDVI por fecha\n",
        "MODIS_stack = MODIS_unmasked.toBands()\n",
        "\n",
        "MODIS_stack # ya no es una colección, es una imagen con 526 bandas en mi área de prueba"
      ]
    },
    {
      "cell_type": "code",
      "execution_count": null,
      "id": "2375393e-2a96-4b44-9fe3-8d150c5926f6",
      "metadata": {
        "execution": {
          "iopub.execute_input": "2024-03-04T20:48:18.992072Z",
          "iopub.status.busy": "2024-03-04T20:48:18.991639Z",
          "iopub.status.idle": "2024-03-04T20:48:18.995604Z",
          "shell.execute_reply": "2024-03-04T20:48:18.995306Z",
          "shell.execute_reply.started": "2024-03-04T20:48:18.992036Z"
        },
        "tags": [],
        "id": "2375393e-2a96-4b44-9fe3-8d150c5926f6"
      },
      "outputs": [],
      "source": [
        "#cortar con un shapefile\n",
        "MODIS_stack = MODIS_stack.clipToCollection(featureCollection01)"
      ]
    },
    {
      "cell_type": "markdown",
      "source": [
        "### K-means"
      ],
      "metadata": {
        "id": "NlYE3dyz-Czu"
      },
      "id": "NlYE3dyz-Czu"
    },
    {
      "cell_type": "code",
      "source": [
        "# El kmeans de GEE necesita entrenar al menos con puntos al azar\n",
        "# Te pide que le des puntos al azar para inicializar el algoritmo\n",
        "# NO DAR muestras de entrenamiento\n",
        "\n",
        "# Fuente: https://developers.google.com/earth-engine/guides/clustering\n",
        "\n",
        "#Define a region in which to generate a sample of the input.\n",
        "\n",
        "#primero defino las variables que piden más abajo\n",
        "region = featureCollection01\n",
        "scale = 250 ## este es el tamaño de pixel de MODIS en esta colección\n",
        "#scale = 231.65635826395825 ## este es el tamaño de pixel de MODIS en esta colección\n",
        "\n",
        "numPixels = 5000 # puntos de inicializacion --> no son de entrenamiento\n",
        "\n",
        "# Make the training dataset, except for -999 (mascara)\n",
        "#MODIS_randomtraining = MODIS_stack.sample(region = region, scale = scale, numPixels = numPixels)\n",
        "\n",
        "MODIS_randomtraining = MODIS_stack.sample(region=region, scale=scale, numPixels=numPixels)"
      ],
      "metadata": {
        "id": "BcEkt7YIJERJ"
      },
      "id": "BcEkt7YIJERJ",
      "execution_count": null,
      "outputs": []
    },
    {
      "cell_type": "code",
      "execution_count": null,
      "id": "4dc671a6-0a81-4abf-935a-4232714b87c0",
      "metadata": {
        "tags": [],
        "id": "4dc671a6-0a81-4abf-935a-4232714b87c0"
      },
      "outputs": [],
      "source": [
        "# Iniciar una clasificación kmeans con N clusters\n",
        "\n",
        "num_clusters = 50 # numero de clases\n",
        "# empezar > 8 ==> David ya clasifico 8, incluyendo arroceras\n",
        "kmeans = ee.Clusterer.wekaKMeans(num_clusters).train(MODIS_randomtraining)"
      ]
    },
    {
      "cell_type": "code",
      "execution_count": null,
      "id": "37d1074b-5933-4f81-bdd8-2c131169aac2",
      "metadata": {
        "tags": [],
        "id": "37d1074b-5933-4f81-bdd8-2c131169aac2"
      },
      "outputs": [],
      "source": [
        "# Aplica la clasificación a la imagen\n",
        "MODIS_kmeans = MODIS_stack.cluster(kmeans) # cada pixel va de 0-n_clusters-1\n",
        "\n",
        "MODIS_kmeans = MODIS_kmeans.add(1) #sumar 1 para que no empiece en 0 el cluster numbering\n",
        "# cada pixel va de 1-n_clusters\n",
        "\n",
        "MODIS_kmeans = MODIS_kmeans.clip(featureCollection01)"
      ]
    },
    {
      "cell_type": "code",
      "execution_count": null,
      "id": "4ae1fe3f-5950-4d89-81eb-3c7d63dc041f",
      "metadata": {
        "tags": [],
        "id": "4ae1fe3f-5950-4d89-81eb-3c7d63dc041f"
      },
      "outputs": [],
      "source": [
        "MODIS_kmeans # es una imagen de una banda, lo que está bien. espero que sea una clasificación."
      ]
    },
    {
      "cell_type": "code",
      "execution_count": null,
      "id": "1b16d004-02c1-4db6-a798-5ea2e2966670",
      "metadata": {
        "tags": [],
        "id": "1b16d004-02c1-4db6-a798-5ea2e2966670"
      },
      "outputs": [],
      "source": [
        "# generar mapa\n",
        "\n",
        "# ver clasificación - en Python\n",
        "\n",
        "Map = geemap.Map(center=(-32.06, -60.62), zoom=9)\n",
        "Map.addLayer(MODIS_kmeans)\n",
        "\n",
        "Map"
      ]
    },
    {
      "cell_type": "code",
      "source": [
        "#https://worldbank.github.io/OpenNightLights/tutorials/mod3_7_import_export_data.html\n",
        "\n",
        "task = ee.batch.Export.image.toDrive(\n",
        "        image = MODIS_kmeans.toDouble(),\n",
        "        scale=scale,\n",
        "        region = featureCollection01.geometry().bounds(), # Or use custom ee.Geometry.Rectangle([minlon, minlat, maxlon, maxlat])\n",
        "        description = 'MODIS_MOD13Q1_NDVI_kmeans50-17-04.tif',\n",
        "        crs = 'EPSG:4326',\n",
        "        maxPixels = 1e10,\n",
        "        fileFormat = \"GeoTIFF\",\n",
        "        folder ='earthengine'\n",
        "  )\n",
        "\n",
        "task.start()"
      ],
      "metadata": {
        "id": "Xf7H_5Z8YSGQ"
      },
      "id": "Xf7H_5Z8YSGQ",
      "execution_count": null,
      "outputs": []
    },
    {
      "cell_type": "markdown",
      "id": "3b3bb87e-835e-4e24-9865-d384f7545b7f",
      "metadata": {
        "id": "3b3bb87e-835e-4e24-9865-d384f7545b7f"
      },
      "source": [
        "## Resumen de las clases\n",
        "\n",
        "#### Extraccion de los datos para su visualizacion en forma de SSTT de NDVI"
      ]
    },
    {
      "cell_type": "code",
      "source": [
        "# https://drive.google.com/file/d/1yRZ7BXNJlEytsreXhU2A4wI_MQkPnlMt/view?usp=sharing\n",
        "\n",
        "!gdown --id 1yRZ7BXNJlEytsreXhU2A4wI_MQkPnlMt"
      ],
      "metadata": {
        "id": "K2q5b8DwTDZn"
      },
      "id": "K2q5b8DwTDZn",
      "execution_count": null,
      "outputs": []
    },
    {
      "cell_type": "code",
      "execution_count": null,
      "id": "b347f9a7-8d41-4ca4-8010-6a211d223ecf",
      "metadata": {
        "tags": [],
        "id": "b347f9a7-8d41-4ca4-8010-6a211d223ecf"
      },
      "outputs": [],
      "source": [
        "# Load raster classification\n",
        "raster_file = \"/content/MODIS_MOD13Q1_NDVI_kmeans50-17-04.tif.tif\"\n",
        "with rasterio.open(raster_file) as src:\n",
        "    classification = src.read(1)\n",
        "    transform = src.transform\n",
        "    num_clusters = len(np.unique(classification))\n",
        "\n",
        "# Create vector layer with random points\n",
        "num_points_per_cluster = 100 #\n",
        "#num_points_per_cluster = 5 #prueba con pocos puntos\n",
        "\n",
        "points = []\n",
        "cluster_numbers = []\n",
        "\n",
        "for cluster_id in range(1, num_clusters + 1):\n",
        "    cluster_indices = np.where(classification == cluster_id)\n",
        "    sample_indices = random.sample(range(len(cluster_indices[0])), min(num_points_per_cluster, len(cluster_indices[0])))\n",
        "\n",
        "    for index in sample_indices:\n",
        "        row, col = cluster_indices[0][index], cluster_indices[1][index]\n",
        "        x, y = rasterio.transform.xy(transform, row, col)\n",
        "        points.append(Point(x, y))\n",
        "        cluster_numbers.append(cluster_id)\n",
        "\n",
        "\n",
        "# Create a GeoDataFrame from the points\n",
        "data = {'geometry': points, 'cluster': cluster_numbers}\n",
        "gdf = gpd.GeoDataFrame(data, crs=src.crs)\n",
        "\n",
        "# Save the GeoDataFrame to a shapefile\n",
        "output_shapefile = \"kmeans_random_points.shp\"\n",
        "gdf.to_file(output_shapefile)\n",
        "\n",
        "print(\"Random points saved to:\", output_shapefile)"
      ]
    },
    {
      "cell_type": "code",
      "execution_count": null,
      "id": "d66da10d-f55b-41f9-8ed5-90adbbbf75c6",
      "metadata": {
        "tags": [],
        "id": "d66da10d-f55b-41f9-8ed5-90adbbbf75c6"
      },
      "outputs": [],
      "source": [
        "modis_collection = MODIS\n",
        "#modis_collection = MODIS.filterDate(\"2022-01-01\", \"2022-01-31\") #prueba con pocas imagenes\n",
        "\n",
        "\n",
        "clusters = gdf[\"cluster\"].unique()\n",
        "\n",
        "# Create a function to extract NDVI values for a point\n",
        "def get_ndvi_for_point(feature):\n",
        "    point = feature.geometry()\n",
        "    ndvi_values = modis_collection.getRegion(point, scale=250).getInfo()\n",
        "    return ndvi_values\n",
        "\n",
        "# Loop through each cluster and extract NDVI values for each point\n",
        "ndvi_data = []\n",
        "\n",
        "for cluster in clusters:\n",
        "    cluster_gdf = gdf[gdf[\"cluster\"] == cluster]\n",
        "    for index, row in cluster_gdf.iterrows():\n",
        "        point = Point(row[\"geometry\"].x, row[\"geometry\"].y)\n",
        "        feature = ee.Feature(ee.Geometry.Point(point.x, point.y))\n",
        "        ndvi_values = get_ndvi_for_point(feature)\n",
        "\n",
        "        # Extract NDVI values for each scene\n",
        "        for scene_values in ndvi_values[1:]:\n",
        "            timestamp_milliseconds = int(scene_values[3])\n",
        "            timestamp_seconds = timestamp_milliseconds / 1000\n",
        "            dt_object = dt.utcfromtimestamp(timestamp_seconds)\n",
        "            formatted_date = dt_object.strftime('%Y-%m-%d')\n",
        "\n",
        "            scene_ndvi_values = scene_values[4:]\n",
        "            ndvi_data.append([cluster, point.x, point.y, formatted_date, *scene_ndvi_values])\n",
        "\n",
        "# Create a dataframe from the extracted data\n",
        "columns = [\"cluster\", \"longitude\", \"latitude\", \"date\"] + [\"NDVI\" + str(i) for i in range(1, len(ndvi_data[0]) - 3)]\n",
        "ndvi_df = pd.DataFrame(ndvi_data, columns=columns)\n",
        "\n",
        "# NOTA: este paso para el Delta tarda unas 2 horas"
      ]
    },
    {
      "cell_type": "code",
      "execution_count": null,
      "id": "81027c09-a405-4293-a6c5-26cb10b9aa04",
      "metadata": {
        "tags": [],
        "id": "81027c09-a405-4293-a6c5-26cb10b9aa04"
      },
      "outputs": [],
      "source": [
        "#llenar los NoData con -2000 (igual que hicimos en la imagen con unmask, ahora lo hace en la tabla)\n",
        "ndvi_df = ndvi_df.fillna(-2000)"
      ]
    },
    {
      "cell_type": "code",
      "execution_count": null,
      "id": "69e9675a-341d-41b2-9a11-046ba61627a0",
      "metadata": {
        "id": "69e9675a-341d-41b2-9a11-046ba61627a0"
      },
      "outputs": [],
      "source": [
        "# Display the dataFrame\n",
        "ndvi_df"
      ]
    },
    {
      "cell_type": "code",
      "execution_count": null,
      "id": "30c67057-b259-40e7-8e70-70c8f5620b27",
      "metadata": {
        "tags": [],
        "id": "30c67057-b259-40e7-8e70-70c8f5620b27"
      },
      "outputs": [],
      "source": [
        "# Pivot the DataFrame to have one column per date\n",
        "pivot_df = ndvi_df.pivot_table(\n",
        "    index=[\"cluster\", \"longitude\", \"latitude\"],\n",
        "    columns=\"date\",\n",
        "    values=[\"NDVI1\"],  # List all the NDVI columns here\n",
        "    aggfunc=\"first\"  # You can adjust the aggregation function if needed\n",
        ")\n",
        "\n",
        "# Reset the index to make columns regular columns\n",
        "pivot_df.reset_index(inplace=True)\n",
        "\n",
        "# Display the pivoted DataFrame\n",
        "pivot_df"
      ]
    },
    {
      "cell_type": "code",
      "execution_count": null,
      "id": "bbe91137-c3af-41a2-99d4-c73538800e1b",
      "metadata": {
        "tags": [],
        "id": "bbe91137-c3af-41a2-99d4-c73538800e1b"
      },
      "outputs": [],
      "source": [
        "#export\n",
        "pivot_df.to_csv(\"./kmeans_ndvi_pivot.csv\", index=False)\n",
        "\n",
        "ndvi_df.to_csv(\"./kmeans_ndvi.csv\", index=False)"
      ]
    }
  ],
  "metadata": {
    "kernelspec": {
      "display_name": "Python 3 (ipykernel)",
      "language": "python",
      "name": "python3"
    },
    "language_info": {
      "codemirror_mode": {
        "name": "ipython",
        "version": 3
      },
      "file_extension": ".py",
      "mimetype": "text/x-python",
      "name": "python",
      "nbconvert_exporter": "python",
      "pygments_lexer": "ipython3",
      "version": "3.11.0"
    },
    "colab": {
      "provenance": []
    }
  },
  "nbformat": 4,
  "nbformat_minor": 5
}