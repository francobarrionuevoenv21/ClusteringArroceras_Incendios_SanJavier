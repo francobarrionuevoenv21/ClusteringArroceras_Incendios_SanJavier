{
  "cells": [
    {
      "cell_type": "markdown",
      "id": "2a97854e-1104-414c-8369-50568dcb916a",
      "metadata": {
        "id": "2a97854e-1104-414c-8369-50568dcb916a"
      },
      "source": [
        "# Clasificación no supervisada con serie temporal NDVI de Terra/MODIS"
      ]
    },
    {
      "cell_type": "code",
      "source": [
        "!pip install rasterio"
      ],
      "metadata": {
        "id": "b5tWjYqh_9XX",
        "outputId": "313b08d3-8fb4-4080-cdae-6e90bbf1e3a7",
        "colab": {
          "base_uri": "https://localhost:8080/"
        }
      },
      "id": "b5tWjYqh_9XX",
      "execution_count": 27,
      "outputs": [
        {
          "output_type": "stream",
          "name": "stdout",
          "text": [
            "Collecting rasterio\n",
            "  Downloading rasterio-1.4.3-cp311-cp311-manylinux_2_17_x86_64.manylinux2014_x86_64.whl.metadata (9.1 kB)\n",
            "Collecting affine (from rasterio)\n",
            "  Downloading affine-2.4.0-py3-none-any.whl.metadata (4.0 kB)\n",
            "Requirement already satisfied: attrs in /usr/local/lib/python3.11/dist-packages (from rasterio) (25.3.0)\n",
            "Requirement already satisfied: certifi in /usr/local/lib/python3.11/dist-packages (from rasterio) (2025.4.26)\n",
            "Requirement already satisfied: click>=4.0 in /usr/local/lib/python3.11/dist-packages (from rasterio) (8.2.1)\n",
            "Collecting cligj>=0.5 (from rasterio)\n",
            "  Downloading cligj-0.7.2-py3-none-any.whl.metadata (5.0 kB)\n",
            "Requirement already satisfied: numpy>=1.24 in /usr/local/lib/python3.11/dist-packages (from rasterio) (2.0.2)\n",
            "Collecting click-plugins (from rasterio)\n",
            "  Downloading click_plugins-1.1.1-py2.py3-none-any.whl.metadata (6.4 kB)\n",
            "Requirement already satisfied: pyparsing in /usr/local/lib/python3.11/dist-packages (from rasterio) (3.2.3)\n",
            "Downloading rasterio-1.4.3-cp311-cp311-manylinux_2_17_x86_64.manylinux2014_x86_64.whl (22.2 MB)\n",
            "\u001b[2K   \u001b[90m━━━━━━━━━━━━━━━━━━━━━━━━━━━━━━━━━━━━━━━━\u001b[0m \u001b[32m22.2/22.2 MB\u001b[0m \u001b[31m62.6 MB/s\u001b[0m eta \u001b[36m0:00:00\u001b[0m\n",
            "\u001b[?25hDownloading cligj-0.7.2-py3-none-any.whl (7.1 kB)\n",
            "Downloading affine-2.4.0-py3-none-any.whl (15 kB)\n",
            "Downloading click_plugins-1.1.1-py2.py3-none-any.whl (7.5 kB)\n",
            "Installing collected packages: cligj, click-plugins, affine, rasterio\n",
            "Successfully installed affine-2.4.0 click-plugins-1.1.1 cligj-0.7.2 rasterio-1.4.3\n"
          ]
        }
      ]
    },
    {
      "cell_type": "markdown",
      "id": "037221fb-50e6-4b34-a7d9-1c849edc0dbf",
      "metadata": {
        "id": "037221fb-50e6-4b34-a7d9-1c849edc0dbf"
      },
      "source": [
        "### Cargar librerías"
      ]
    },
    {
      "cell_type": "code",
      "execution_count": 1,
      "id": "95c7c71e-558b-4e8b-bc8e-a08c34d15cb3",
      "metadata": {
        "execution": {
          "iopub.execute_input": "2024-03-04T20:39:54.521712Z",
          "iopub.status.busy": "2024-03-04T20:39:54.521568Z",
          "iopub.status.idle": "2024-03-04T20:40:27.151349Z",
          "shell.execute_reply": "2024-03-04T20:40:27.151064Z",
          "shell.execute_reply.started": "2024-03-04T20:39:54.521701Z"
        },
        "tags": [],
        "id": "95c7c71e-558b-4e8b-bc8e-a08c34d15cb3"
      },
      "outputs": [],
      "source": [
        "import ee\n",
        "\n",
        "# Authenticate and initialize GEE\n",
        "ee.Authenticate()\n",
        "ee.Initialize(project='ee-my-francodbarr')"
      ]
    },
    {
      "cell_type": "code",
      "execution_count": 28,
      "id": "60f5e2f5-8601-4509-9132-e1610558357b",
      "metadata": {
        "execution": {
          "iopub.execute_input": "2024-03-04T20:40:53.832518Z",
          "iopub.status.busy": "2024-03-04T20:40:53.832359Z",
          "iopub.status.idle": "2024-03-04T20:40:54.559108Z",
          "shell.execute_reply": "2024-03-04T20:40:54.558733Z",
          "shell.execute_reply.started": "2024-03-04T20:40:53.832505Z"
        },
        "tags": [],
        "id": "60f5e2f5-8601-4509-9132-e1610558357b"
      },
      "outputs": [],
      "source": [
        "import pandas as pd\n",
        "import numpy as np\n",
        "from datetime import datetime as dt\n",
        "import geemap\n",
        "import geopandas as gpd\n",
        "from shapely.geometry import Polygon\n",
        "from shapely.geometry import shape\n",
        "from shapely.geometry import Point\n",
        "import rasterio\n",
        "import random"
      ]
    },
    {
      "cell_type": "markdown",
      "source": [
        "### Planicie de paleocauces vector importing and conversion"
      ],
      "metadata": {
        "id": "Y8rPXhVHP_2f"
      },
      "id": "Y8rPXhVHP_2f"
    },
    {
      "cell_type": "code",
      "source": [
        "# Import vector file from the GH repo\n",
        "!wget https://github.com/francobarrionuevoenv21/ClusteringArroceras_Incendios_SanJavier/blob/main/Primary_data/Planicie_con_paleocauces_NW-SW_4326.geojson"
      ],
      "metadata": {
        "id": "AzsaRp9m5-qR",
        "outputId": "19534315-d201-4c99-fe7e-5814f0159a7c",
        "colab": {
          "base_uri": "https://localhost:8080/"
        },
        "collapsed": true
      },
      "id": "AzsaRp9m5-qR",
      "execution_count": null,
      "outputs": [
        {
          "output_type": "stream",
          "name": "stdout",
          "text": [
            "--2025-05-31 17:57:58--  https://github.com/francobarrionuevoenv21/ClusteringArroceras_Incendios_SanJavier/blob/main/Primary_data/Planicie_con_paleocauces_NW-SW_4326.geojson\n",
            "Resolving github.com (github.com)... 140.82.113.4\n",
            "Connecting to github.com (github.com)|140.82.113.4|:443... connected.\n",
            "HTTP request sent, awaiting response... 200 OK\n",
            "Length: unspecified [text/html]\n",
            "Saving to: ‘Planicie_con_paleocauces_NW-SW_4326.geojson’\n",
            "\n",
            "Planicie_con_paleoc     [ <=>                ] 337.19K  --.-KB/s    in 0.1s    \n",
            "\n",
            "2025-05-31 17:57:58 (2.65 MB/s) - ‘Planicie_con_paleocauces_NW-SW_4326.geojson’ saved [345285]\n",
            "\n"
          ]
        }
      ]
    },
    {
      "cell_type": "code",
      "source": [
        "# Vector file reading\n",
        "targetCRS = \"EPSG:4326\"\n",
        "vectorPPCC = gpd.read_file('/content/Planicie_con_paleocauces_NW-SW_4326.geojson').to_crs(targetCRS)"
      ],
      "metadata": {
        "id": "1mp2aXyLAG8F"
      },
      "id": "1mp2aXyLAG8F",
      "execution_count": null,
      "outputs": []
    },
    {
      "cell_type": "code",
      "source": [
        "# getCoordsSHP function\n",
        "def getCoordsSHP(gdfshpFile):\n",
        "  '''\n",
        "  This function takes a polygon vector file passed as a GeoDataFrame. Then\n",
        "  it returns all the coordinates as a tuple of tuples.\n",
        "  '''\n",
        "\n",
        "  gdfiterf = gdfshpFile.iterfeatures()\n",
        "  tupleFile = next(gdfiterf)['geometry']['coordinates']\n",
        "\n",
        "  return tupleFile\n",
        "\n",
        "# Get vector coordinates as a tuple of tuples\n",
        "tupleOfTuples01 = getCoordsSHP(vectorPPCC)\n",
        "\n",
        "# Converting coordinates into a list of lists\n",
        "listOfLists01 = [list(t[:2]) for t in tupleOfTuples01[0]]\n",
        "\n",
        "# Coordinates to a EE.Polygon\n",
        "polygon01 = ee.Geometry.Polygon(listOfLists01)\n",
        "\n",
        "# Polygon to a EE Feature Collection (For clipping according to the vector of the region)\n",
        "featureCollection01 = ee.FeatureCollection(polygon01)"
      ],
      "metadata": {
        "id": "XY1i9ZRSDf7o"
      },
      "id": "XY1i9ZRSDf7o",
      "execution_count": null,
      "outputs": []
    },
    {
      "cell_type": "markdown",
      "id": "180f5571-9ff7-4ea7-b220-d56fa127a7c5",
      "metadata": {
        "id": "180f5571-9ff7-4ea7-b220-d56fa127a7c5"
      },
      "source": [
        "## MODIS NDVI data retrieving from GEE catalog\n",
        "#### https://developers.google.com/earth-engine/datasets/catalog/MODIS_061_MOD13Q1"
      ]
    },
    {
      "cell_type": "code",
      "execution_count": 2,
      "id": "b4c98ad6-9f10-46a4-b4f0-c7d3594dcc4b",
      "metadata": {
        "execution": {
          "iopub.execute_input": "2024-03-04T20:41:09.114747Z",
          "iopub.status.busy": "2024-03-04T20:41:09.114532Z",
          "iopub.status.idle": "2024-03-04T20:41:09.116889Z",
          "shell.execute_reply": "2024-03-04T20:41:09.116644Z",
          "shell.execute_reply.started": "2024-03-04T20:41:09.114726Z"
        },
        "tags": [],
        "id": "b4c98ad6-9f10-46a4-b4f0-c7d3594dcc4b",
        "outputId": "1dc2f2a4-eeb2-4dc5-d1f2-934b9c6cf109",
        "colab": {
          "base_uri": "https://localhost:8080/"
        }
      },
      "outputs": [
        {
          "output_type": "stream",
          "name": "stderr",
          "text": [
            "/usr/local/lib/python3.11/dist-packages/ee/deprecation.py:207: DeprecationWarning: \n",
            "\n",
            "Attention required for MODIS/006/MOD13Q1! You are using a deprecated asset.\n",
            "To make sure your code keeps working, please update it.\n",
            "Learn more: https://developers.google.com/earth-engine/datasets/catalog/MODIS_006_MOD13Q1\n",
            "\n",
            "  warnings.warn(warning, category=DeprecationWarning)\n"
          ]
        }
      ],
      "source": [
        "# MODIS MOD13Q1 NDVI data selection\n",
        "MODIS = ee.ImageCollection('MODIS/006/MOD13Q1').select('NDVI') # MOD13Q1.061 Terra Vegetation Indices 16-Day Global 250m\n",
        "\n",
        "# Time range selection\n",
        "startDate = '2000-02-18'\n",
        "endDate = '2022-12-31'\n",
        "\n",
        "# Image collection filtering by time range\n",
        "MODIS = MODIS.filterDate(startDate, endDate)"
      ]
    },
    {
      "cell_type": "code",
      "execution_count": 22,
      "id": "1f145dcc-3a79-4430-9d86-fbb9fca15421",
      "metadata": {
        "execution": {
          "iopub.execute_input": "2024-03-04T20:43:23.732387Z",
          "iopub.status.busy": "2024-03-04T20:43:23.732247Z",
          "iopub.status.idle": "2024-03-04T20:43:25.231874Z",
          "shell.execute_reply": "2024-03-04T20:43:25.231566Z",
          "shell.execute_reply.started": "2024-03-04T20:43:23.732376Z"
        },
        "tags": [],
        "id": "1f145dcc-3a79-4430-9d86-fbb9fca15421",
        "collapsed": true,
        "colab": {
          "base_uri": "https://localhost:8080/"
        },
        "outputId": "e3d32706-8f05-4867-f554-5b01e8d5372b"
      },
      "outputs": [
        {
          "output_type": "stream",
          "name": "stdout",
          "text": [
            "<class 'ee.imagecollection.ImageCollection'>\n",
            "526\n"
          ]
        }
      ],
      "source": [
        "# Check data retrieving\n",
        "print(type(MODIS))\n",
        "print(MODIS.size().getInfo())"
      ]
    },
    {
      "cell_type": "code",
      "execution_count": 9,
      "id": "e96358c4-d132-46fe-9270-b6a538a1cd73",
      "metadata": {
        "execution": {
          "iopub.execute_input": "2024-03-04T20:47:53.655071Z",
          "iopub.status.busy": "2024-03-04T20:47:53.654920Z",
          "iopub.status.idle": "2024-03-04T20:47:53.658519Z",
          "shell.execute_reply": "2024-03-04T20:47:53.658161Z",
          "shell.execute_reply.started": "2024-03-04T20:47:53.655061Z"
        },
        "tags": [],
        "id": "e96358c4-d132-46fe-9270-b6a538a1cd73"
      },
      "outputs": [],
      "source": [
        "# Define a function to unmask the NDVI band\n",
        "def unmaskNDVI(image):\n",
        "    return image.select('NDVI').unmask(-2000)\n",
        "\n",
        "# Map the unmask function over the entire collection\n",
        "MODIS_unmasked = MODIS.map(unmaskNDVI)"
      ]
    },
    {
      "cell_type": "code",
      "execution_count": 24,
      "id": "371e78f1-8b8b-40ea-b867-fe0debba660d",
      "metadata": {
        "execution": {
          "iopub.execute_input": "2024-03-04T20:48:08.062671Z",
          "iopub.status.busy": "2024-03-04T20:48:08.062505Z",
          "iopub.status.idle": "2024-03-04T20:48:09.542990Z",
          "shell.execute_reply": "2024-03-04T20:48:09.542277Z",
          "shell.execute_reply.started": "2024-03-04T20:48:08.062659Z"
        },
        "tags": [],
        "id": "371e78f1-8b8b-40ea-b867-fe0debba660d",
        "collapsed": true,
        "colab": {
          "base_uri": "https://localhost:8080/"
        },
        "outputId": "d4cb42d3-131d-45a0-fa4f-66dfb2bb9e89"
      },
      "outputs": [
        {
          "output_type": "stream",
          "name": "stdout",
          "text": [
            "<class 'ee.image.Image'>\n"
          ]
        }
      ],
      "source": [
        "# Convert the image collection to a stack of images\n",
        "MODIS_stack = MODIS_unmasked.toBands()\n",
        "print(type(MODIS_stack))"
      ]
    },
    {
      "cell_type": "code",
      "execution_count": null,
      "id": "2375393e-2a96-4b44-9fe3-8d150c5926f6",
      "metadata": {
        "execution": {
          "iopub.execute_input": "2024-03-04T20:48:18.992072Z",
          "iopub.status.busy": "2024-03-04T20:48:18.991639Z",
          "iopub.status.idle": "2024-03-04T20:48:18.995604Z",
          "shell.execute_reply": "2024-03-04T20:48:18.995306Z",
          "shell.execute_reply.started": "2024-03-04T20:48:18.992036Z"
        },
        "tags": [],
        "id": "2375393e-2a96-4b44-9fe3-8d150c5926f6"
      },
      "outputs": [],
      "source": [
        "# Clip the stack of images according to the study area\n",
        "MODIS_stack = MODIS_stack.clipToCollection(featureCollection01)"
      ]
    },
    {
      "cell_type": "markdown",
      "source": [
        "## K-means classification of the study area\n",
        "#### Kmeans in GEE description: https://developers.google.com/earth-engine/guides/clustering"
      ],
      "metadata": {
        "id": "NlYE3dyz-Czu"
      },
      "id": "NlYE3dyz-Czu"
    },
    {
      "cell_type": "markdown",
      "source": [
        "### Initialization/training dataset"
      ],
      "metadata": {
        "id": "-TzPrE4IuG2f"
      },
      "id": "-TzPrE4IuG2f"
    },
    {
      "cell_type": "code",
      "source": [
        "'''\n",
        "NOTE: Running the Kmeans algorithm in GEE requires random training points as input\n",
        "'''\n",
        "\n",
        "# Define the region to generate the input sample\n",
        "region = featureCollection01\n",
        "# Pixel spatial resolution in meters\n",
        "scale = 250\n",
        "# Number of initialization/training points\n",
        "numPixels = 5000\n",
        "\n",
        "# Make the training dataset\n",
        "MODIS_randomtraining = MODIS_stack.sample(region=region, scale=scale, numPixels=numPixels)"
      ],
      "metadata": {
        "id": "BcEkt7YIJERJ"
      },
      "id": "BcEkt7YIJERJ",
      "execution_count": null,
      "outputs": []
    },
    {
      "cell_type": "markdown",
      "source": [
        "### Study area classification"
      ],
      "metadata": {
        "id": "3Xki8nNruO-W"
      },
      "id": "3Xki8nNruO-W"
    },
    {
      "cell_type": "code",
      "execution_count": null,
      "id": "4dc671a6-0a81-4abf-935a-4232714b87c0",
      "metadata": {
        "tags": [],
        "id": "4dc671a6-0a81-4abf-935a-4232714b87c0"
      },
      "outputs": [],
      "source": [
        "'''\n",
        "NOTE: The criteria for the number of classification clusters was defined as\n",
        "five times the prior landcover classification types according to Clausser et al. (2023)\n",
        "'''\n",
        "# Define the number of clusters for classification\n",
        "num_clusters = 50\n",
        "\n",
        "# Train the Kmeans classifier\n",
        "kmeans = ee.Clusterer.wekaKMeans(num_clusters).train(MODIS_randomtraining)"
      ]
    },
    {
      "cell_type": "code",
      "execution_count": null,
      "id": "37d1074b-5933-4f81-bdd8-2c131169aac2",
      "metadata": {
        "tags": [],
        "id": "37d1074b-5933-4f81-bdd8-2c131169aac2"
      },
      "outputs": [],
      "source": [
        "# Apply the classifier over the stack of images (Time series classification)\n",
        "MODIS_kmeans = MODIS_stack.cluster(kmeans) # Pixels are classified as 0 to n_clusters-1\n",
        "MODIS_kmeans = MODIS_kmeans.add(1) # Sum 1 so the first cluster id different to 0\n",
        "\n",
        "# Clip the image classified according to vector of the study area\n",
        "MODIS_kmeans = MODIS_kmeans.clip(featureCollection01)"
      ]
    },
    {
      "cell_type": "code",
      "execution_count": null,
      "id": "4ae1fe3f-5950-4d89-81eb-3c7d63dc041f",
      "metadata": {
        "tags": [],
        "id": "4ae1fe3f-5950-4d89-81eb-3c7d63dc041f"
      },
      "outputs": [],
      "source": [
        "# Check image output format\n",
        "print(type(MODIS_kmeans))"
      ]
    },
    {
      "cell_type": "markdown",
      "source": [
        "### Visualize classification"
      ],
      "metadata": {
        "id": "nIiI29EWzZMg"
      },
      "id": "nIiI29EWzZMg"
    },
    {
      "cell_type": "code",
      "execution_count": null,
      "id": "1b16d004-02c1-4db6-a798-5ea2e2966670",
      "metadata": {
        "tags": [],
        "id": "1b16d004-02c1-4db6-a798-5ea2e2966670"
      },
      "outputs": [],
      "source": [
        "Map = geemap.Map(center=(-32.06, -60.62), zoom=9)\n",
        "Map.addLayer(MODIS_kmeans)\n",
        "\n",
        "Map"
      ]
    },
    {
      "cell_type": "markdown",
      "source": [
        "### Download the final classification"
      ],
      "metadata": {
        "id": "qdFL_HbezjZ4"
      },
      "id": "qdFL_HbezjZ4"
    },
    {
      "cell_type": "code",
      "source": [
        "'''\n",
        "Tutorial for large images exporting from GEE\n",
        "https://worldbank.github.io/OpenNightLights/tutorials/mod3_7_import_export_data.html\n",
        "'''\n",
        "\n",
        "task = ee.batch.Export.image.toDrive(\n",
        "        image = MODIS_kmeans.toDouble(),\n",
        "        scale=scale,\n",
        "        region = featureCollection01.geometry().bounds(), # Or use custom ee.Geometry.Rectangle([minlon, minlat, maxlon, maxlat])\n",
        "        description = 'MODIS_MOD13Q1_NDVI_kmeans50-17-04.tif',\n",
        "        crs = 'EPSG:4326',\n",
        "        maxPixels = 1e10, # Avoid limits in memory usage\n",
        "        fileFormat = \"GeoTIFF\",\n",
        "        folder ='earthengine'\n",
        "  )\n",
        "\n",
        "task.start() # Find the final image in Google Drive folder"
      ],
      "metadata": {
        "id": "Xf7H_5Z8YSGQ"
      },
      "id": "Xf7H_5Z8YSGQ",
      "execution_count": null,
      "outputs": []
    },
    {
      "cell_type": "markdown",
      "id": "3b3bb87e-835e-4e24-9865-d384f7545b7f",
      "metadata": {
        "id": "3b3bb87e-835e-4e24-9865-d384f7545b7f"
      },
      "source": [
        "## Summary of cluster's classes\n",
        "\n",
        "#### Data sampling to reconstruct the timeseries of each classification"
      ]
    },
    {
      "cell_type": "code",
      "source": [
        "# Import image with the classification from the GH repo\n",
        "# If any error with the link, you can find the file here: https://github.com/francobarrionuevoenv21/ClusteringArroceras_Incendios_SanJavier/blob/main/Data_results/01_MODIS_MOD13Q1_NDVI_kmeans50-17-04.tif\n",
        "!wget https://github.com/francobarrionuevoenv21/ClusteringArroceras_Incendios_SanJavier/raw/refs/heads/main/Data_results/01_MODIS_MOD13Q1_NDVI_kmeans50-17-04.tif"
      ],
      "metadata": {
        "id": "K2q5b8DwTDZn",
        "colab": {
          "base_uri": "https://localhost:8080/",
          "height": 295
        },
        "collapsed": true,
        "outputId": "1f31d149-4911-462f-da8d-dd00cd8efa26"
      },
      "id": "K2q5b8DwTDZn",
      "execution_count": 33,
      "outputs": [
        {
          "output_type": "display_data",
          "data": {
            "text/plain": [
              "<IPython.core.display.HTML object>"
            ],
            "text/html": [
              "\n",
              "            <style>\n",
              "                .geemap-dark {\n",
              "                    --jp-widgets-color: white;\n",
              "                    --jp-widgets-label-color: white;\n",
              "                    --jp-ui-font-color1: white;\n",
              "                    --jp-layout-color2: #454545;\n",
              "                    background-color: #383838;\n",
              "                }\n",
              "\n",
              "                .geemap-dark .jupyter-button {\n",
              "                    --jp-layout-color3: #383838;\n",
              "                }\n",
              "\n",
              "                .geemap-colab {\n",
              "                    background-color: var(--colab-primary-surface-color, white);\n",
              "                }\n",
              "\n",
              "                .geemap-colab .jupyter-button {\n",
              "                    --jp-layout-color3: var(--colab-primary-surface-color, white);\n",
              "                }\n",
              "            </style>\n",
              "            "
            ]
          },
          "metadata": {}
        },
        {
          "output_type": "stream",
          "name": "stdout",
          "text": [
            "--2025-05-31 20:27:09--  https://github.com/francobarrionuevoenv21/ClusteringArroceras_Incendios_SanJavier/raw/refs/heads/main/Data_results/01_MODIS_MOD13Q1_NDVI_kmeans50-17-04.tif\n",
            "Resolving github.com (github.com)... 140.82.114.4\n",
            "Connecting to github.com (github.com)|140.82.114.4|:443... connected.\n",
            "HTTP request sent, awaiting response... 302 Found\n",
            "Location: https://raw.githubusercontent.com/francobarrionuevoenv21/ClusteringArroceras_Incendios_SanJavier/refs/heads/main/Data_results/01_MODIS_MOD13Q1_NDVI_kmeans50-17-04.tif [following]\n",
            "--2025-05-31 20:27:09--  https://raw.githubusercontent.com/francobarrionuevoenv21/ClusteringArroceras_Incendios_SanJavier/refs/heads/main/Data_results/01_MODIS_MOD13Q1_NDVI_kmeans50-17-04.tif\n",
            "Resolving raw.githubusercontent.com (raw.githubusercontent.com)... 185.199.108.133, 185.199.109.133, 185.199.110.133, ...\n",
            "Connecting to raw.githubusercontent.com (raw.githubusercontent.com)|185.199.108.133|:443... connected.\n",
            "HTTP request sent, awaiting response... 200 OK\n",
            "Length: 60486 (59K) [image/tiff]\n",
            "Saving to: ‘01_MODIS_MOD13Q1_NDVI_kmeans50-17-04.tif’\n",
            "\n",
            "01_MODIS_MOD13Q1_ND 100%[===================>]  59.07K  --.-KB/s    in 0.01s   \n",
            "\n",
            "2025-05-31 20:27:09 (5.09 MB/s) - ‘01_MODIS_MOD13Q1_NDVI_kmeans50-17-04.tif’ saved [60486/60486]\n",
            "\n"
          ]
        }
      ]
    },
    {
      "cell_type": "code",
      "source": [
        "# Load raster classification\n",
        "raster_file = \"/content/01_MODIS_MOD13Q1_NDVI_kmeans50-17-04.tif\"\n",
        "with rasterio.open(raster_file) as src:\n",
        "    classification = src.read(1)\n",
        "    transform = src.transform\n",
        "    num_clusters = len(np.unique(classification))"
      ],
      "metadata": {
        "colab": {
          "base_uri": "https://localhost:8080/",
          "height": 17
        },
        "id": "HtTGPD-I_k9G",
        "outputId": "0bf78335-747f-459e-8789-52e2298b03cc"
      },
      "id": "HtTGPD-I_k9G",
      "execution_count": 34,
      "outputs": [
        {
          "output_type": "display_data",
          "data": {
            "text/plain": [
              "<IPython.core.display.HTML object>"
            ],
            "text/html": [
              "\n",
              "            <style>\n",
              "                .geemap-dark {\n",
              "                    --jp-widgets-color: white;\n",
              "                    --jp-widgets-label-color: white;\n",
              "                    --jp-ui-font-color1: white;\n",
              "                    --jp-layout-color2: #454545;\n",
              "                    background-color: #383838;\n",
              "                }\n",
              "\n",
              "                .geemap-dark .jupyter-button {\n",
              "                    --jp-layout-color3: #383838;\n",
              "                }\n",
              "\n",
              "                .geemap-colab {\n",
              "                    background-color: var(--colab-primary-surface-color, white);\n",
              "                }\n",
              "\n",
              "                .geemap-colab .jupyter-button {\n",
              "                    --jp-layout-color3: var(--colab-primary-surface-color, white);\n",
              "                }\n",
              "            </style>\n",
              "            "
            ]
          },
          "metadata": {}
        }
      ]
    },
    {
      "cell_type": "code",
      "source": [
        "cluster_id = 9\n",
        "np.where(classification == cluster_id)"
      ],
      "metadata": {
        "collapsed": true,
        "colab": {
          "base_uri": "https://localhost:8080/",
          "height": 1000
        },
        "id": "-dcS-_u0FIgH",
        "outputId": "e5ed16dd-0432-45fa-c584-ae95377659f9"
      },
      "id": "-dcS-_u0FIgH",
      "execution_count": 41,
      "outputs": [
        {
          "output_type": "display_data",
          "data": {
            "text/plain": [
              "<IPython.core.display.HTML object>"
            ],
            "text/html": [
              "\n",
              "            <style>\n",
              "                .geemap-dark {\n",
              "                    --jp-widgets-color: white;\n",
              "                    --jp-widgets-label-color: white;\n",
              "                    --jp-ui-font-color1: white;\n",
              "                    --jp-layout-color2: #454545;\n",
              "                    background-color: #383838;\n",
              "                }\n",
              "\n",
              "                .geemap-dark .jupyter-button {\n",
              "                    --jp-layout-color3: #383838;\n",
              "                }\n",
              "\n",
              "                .geemap-colab {\n",
              "                    background-color: var(--colab-primary-surface-color, white);\n",
              "                }\n",
              "\n",
              "                .geemap-colab .jupyter-button {\n",
              "                    --jp-layout-color3: var(--colab-primary-surface-color, white);\n",
              "                }\n",
              "            </style>\n",
              "            "
            ]
          },
          "metadata": {}
        },
        {
          "output_type": "execute_result",
          "data": {
            "text/plain": [
              "(array([217, 218, 218, 218, 220, 220, 220, 221, 221, 221, 221, 221, 222,\n",
              "        222, 222, 222, 222, 222, 222, 223, 223, 223, 223, 223, 223, 223,\n",
              "        223, 224, 224, 224, 224, 224, 224, 224, 224, 225, 225, 225, 225,\n",
              "        225, 225, 225, 225, 226, 226, 226, 226, 226, 226, 226, 226, 226,\n",
              "        226, 226, 227, 227, 227, 227, 227, 227, 227, 227, 227, 227, 227,\n",
              "        227, 227, 227, 227, 228, 228, 228, 228, 228, 228, 228, 228, 228,\n",
              "        228, 228, 228, 228, 228, 228, 229, 229, 229, 229, 229, 229, 229,\n",
              "        229, 229, 229, 229, 229, 229, 229, 229, 229, 229, 229, 229, 229,\n",
              "        229, 229, 229, 229, 229, 229, 229, 230, 230, 230, 230, 230, 230,\n",
              "        230, 230, 230, 230, 230, 230, 230, 230, 230, 230, 230, 230, 230,\n",
              "        230, 230, 230, 230, 230, 230, 230, 230, 230, 230, 230, 231, 231,\n",
              "        231, 231, 231, 231, 231, 231, 231, 231, 231, 231, 231, 231, 231,\n",
              "        231, 231, 231, 231, 231, 231, 231, 231, 231, 231, 231, 231, 231,\n",
              "        231, 232, 232, 232, 232, 232, 232, 232, 232, 232, 232, 232, 232,\n",
              "        232, 232, 232, 232, 232, 232, 232, 232, 232, 232, 232, 232, 232,\n",
              "        232, 232, 232, 232, 232, 232, 232, 233, 233, 233, 233, 233, 233,\n",
              "        233, 233, 233, 233, 233, 233, 233, 233, 233, 233, 233, 233, 233,\n",
              "        233, 233, 233, 233, 233, 233, 233, 233, 233, 234, 234, 234, 234,\n",
              "        234, 234, 234, 234, 234, 234, 234, 234, 234, 234, 234, 234, 234,\n",
              "        234, 234, 235, 235, 235, 235, 235, 235, 235, 235, 235, 235, 235,\n",
              "        235, 235, 235, 235, 235, 235, 235, 235, 235, 235, 235, 235, 235,\n",
              "        235, 235, 235, 235, 235, 235, 236, 236, 236, 236, 236, 236, 236,\n",
              "        236, 236, 236, 236, 236, 236, 236, 236, 236, 236, 236, 236, 236,\n",
              "        236, 236, 236, 236, 236, 236, 236, 236, 236, 236, 236, 236, 236,\n",
              "        236, 236, 236, 236, 236, 236, 236, 236, 236, 236, 236, 236, 236,\n",
              "        236, 236, 236, 237, 237, 237, 237, 237, 237, 237, 237, 237, 237,\n",
              "        237, 237, 237, 237, 237, 237, 237, 237, 237, 237, 237, 237, 237,\n",
              "        237, 237, 237, 237, 237, 237, 237, 237, 237, 237, 237, 237, 237,\n",
              "        237, 237, 237, 237, 237, 237, 237, 237, 237, 237, 237, 237, 237,\n",
              "        238, 238, 238, 238, 238, 238, 238, 238, 238, 238, 238, 238, 238,\n",
              "        238, 238, 238, 238, 238, 238, 238, 238, 238, 238, 238, 238, 238,\n",
              "        238, 238, 238, 238, 238, 238, 238, 238, 238, 238, 238, 238, 238,\n",
              "        238, 238, 238, 238, 238, 238, 239, 239, 239, 239, 239, 239, 239,\n",
              "        239, 239, 239, 239, 239, 239, 239, 239, 239, 239, 239, 239, 239,\n",
              "        239, 239, 239, 239, 239, 239, 239, 239, 239, 239, 239, 239, 239,\n",
              "        239, 239, 239, 239, 239, 240, 240, 240, 240, 240, 240, 240, 240,\n",
              "        240, 240, 240, 240, 240, 240, 240, 240, 240, 240, 240, 240, 240,\n",
              "        240, 240, 240, 240, 240, 240, 240, 240, 240, 240, 241, 241, 241,\n",
              "        241, 241, 241, 241, 241, 241, 241, 241, 241, 241, 241, 241, 241,\n",
              "        241, 241, 241, 241, 241, 241, 242, 242, 242, 242, 242, 242, 242,\n",
              "        242, 242, 242, 242, 242, 242, 242, 242, 242, 242, 242, 242, 242,\n",
              "        242, 243, 243, 243, 243, 243, 243, 243, 243, 243, 243, 243, 243,\n",
              "        243, 243, 243, 243, 243, 243, 243, 243, 243, 243, 243, 243, 244,\n",
              "        244, 244, 244, 244, 244, 244, 244, 244, 244, 244, 244, 244, 244,\n",
              "        244, 244, 244, 244, 244, 244, 244, 244, 244, 244, 244, 245, 245,\n",
              "        245, 245, 245, 245, 245, 245, 245, 245, 245, 245, 245, 245, 245,\n",
              "        245, 245, 245, 245, 245, 245, 245, 245, 245, 245, 245, 245, 245,\n",
              "        245, 245, 246, 246, 246, 246, 246, 246, 246, 246, 246, 246, 246,\n",
              "        246, 246, 246, 246, 246, 246, 246, 246, 246, 246, 246, 246, 246,\n",
              "        246, 246, 246, 246, 246, 246, 247, 247, 247, 247, 247, 247, 247,\n",
              "        247, 247, 247, 247, 247, 247, 247, 247, 247, 247, 247, 247, 247,\n",
              "        247, 247, 247, 248, 248, 248, 248, 248, 248, 248, 248, 248, 248,\n",
              "        248, 248, 248, 248, 248, 248, 249, 249, 249, 249, 249, 249, 249,\n",
              "        249, 249, 249, 249, 249, 249, 249, 249, 250, 250, 250, 250, 250,\n",
              "        250, 250, 250, 250, 250, 250, 250, 250, 250, 250, 251, 251, 251,\n",
              "        251, 251, 251, 251, 251, 251, 252, 252, 252, 252, 252, 252, 252,\n",
              "        253, 253, 253, 253, 253, 253, 253, 253, 253, 254, 254, 254, 254,\n",
              "        254, 254, 255, 255, 255, 255, 255, 255, 255, 255, 255, 256, 256,\n",
              "        256, 256, 256, 256, 257, 257, 257, 257, 258, 258, 258, 258, 259,\n",
              "        259, 259, 259, 260, 260, 260, 260, 260, 260, 260, 260, 261, 261,\n",
              "        261, 261, 261, 261, 261, 262, 262, 262, 263, 263, 263, 263, 263,\n",
              "        263, 264, 264, 264, 264, 265, 265, 265, 265, 266, 266, 267, 267,\n",
              "        268, 268, 268, 269, 269, 269, 269, 269, 269, 270, 270, 270, 270,\n",
              "        270, 271, 271, 271, 271, 272, 272, 272, 272, 272, 273, 273, 273,\n",
              "        274]),\n",
              " array([167, 166, 167, 168, 167, 168, 169, 146, 147, 167, 168, 169, 145,\n",
              "        146, 147, 148, 167, 168, 169, 144, 145, 146, 147, 148, 168, 169,\n",
              "        170, 118, 143, 144, 145, 146, 147, 148, 149, 119, 120, 143, 144,\n",
              "        145, 146, 147, 148, 120, 142, 143, 144, 145, 146, 147, 148, 149,\n",
              "        163, 164, 121, 122, 146, 147, 148, 149, 161, 162, 163, 164, 165,\n",
              "        167, 169, 170, 171, 144, 145, 146, 147, 148, 156, 160, 161, 162,\n",
              "        163, 164, 165, 166, 167, 168, 138, 139, 140, 142, 143, 144, 145,\n",
              "        146, 147, 148, 149, 150, 152, 153, 154, 155, 156, 157, 158, 159,\n",
              "        160, 161, 162, 163, 164, 165, 166, 135, 136, 137, 138, 139, 140,\n",
              "        141, 142, 143, 144, 145, 146, 147, 148, 149, 150, 151, 152, 153,\n",
              "        154, 155, 156, 157, 158, 159, 160, 161, 162, 163, 164, 127, 136,\n",
              "        137, 138, 139, 140, 141, 142, 143, 144, 145, 146, 147, 148, 149,\n",
              "        150, 151, 152, 153, 154, 155, 156, 157, 158, 159, 160, 161, 162,\n",
              "        163, 126, 135, 136, 137, 138, 139, 140, 141, 142, 143, 144, 145,\n",
              "        146, 147, 148, 149, 150, 151, 152, 153, 154, 155, 156, 157, 158,\n",
              "        159, 166, 167, 168, 169, 170, 171, 127, 128, 129, 132, 133, 135,\n",
              "        136, 137, 138, 139, 140, 141, 142, 143, 144, 145, 146, 147, 148,\n",
              "        149, 150, 156, 157, 162, 163, 166, 167, 171, 126, 127, 128, 129,\n",
              "        130, 131, 132, 139, 142, 143, 144, 145, 146, 147, 162, 163, 164,\n",
              "        165, 166, 116, 117, 118, 119, 120, 121, 122, 123, 124, 125, 126,\n",
              "        127, 128, 129, 130, 131, 132, 133, 142, 143, 144, 145, 146, 157,\n",
              "        158, 163, 164, 165, 166, 172, 116, 117, 118, 119, 120, 121, 122,\n",
              "        123, 124, 125, 126, 127, 128, 129, 130, 131, 132, 133, 134, 135,\n",
              "        136, 137, 138, 140, 141, 142, 143, 144, 145, 146, 147, 155, 156,\n",
              "        157, 158, 159, 160, 161, 162, 163, 164, 165, 172, 173, 174, 175,\n",
              "        176, 177, 178, 117, 118, 119, 120, 121, 122, 123, 124, 125, 126,\n",
              "        127, 128, 129, 130, 131, 132, 133, 134, 135, 136, 137, 138, 139,\n",
              "        140, 141, 142, 143, 144, 145, 146, 153, 154, 155, 156, 157, 158,\n",
              "        159, 160, 161, 162, 163, 164, 171, 172, 173, 174, 175, 176, 177,\n",
              "        117, 118, 119, 120, 121, 122, 123, 124, 125, 126, 127, 128, 129,\n",
              "        130, 131, 132, 133, 134, 135, 136, 137, 138, 139, 140, 141, 142,\n",
              "        143, 144, 145, 153, 154, 155, 156, 157, 158, 159, 160, 161, 162,\n",
              "        164, 172, 173, 174, 175, 176, 117, 118, 119, 120, 121, 122, 123,\n",
              "        124, 125, 126, 127, 128, 129, 130, 131, 132, 133, 134, 135, 136,\n",
              "        137, 138, 139, 140, 141, 142, 143, 151, 152, 153, 154, 155, 156,\n",
              "        157, 158, 159, 160, 161, 118, 119, 124, 125, 126, 127, 128, 130,\n",
              "        131, 132, 133, 136, 137, 138, 139, 140, 141, 142, 151, 152, 153,\n",
              "        154, 155, 156, 157, 158, 159, 160, 161, 163, 164, 107, 108, 109,\n",
              "        119, 125, 126, 127, 128, 129, 130, 131, 132, 133, 134, 149, 150,\n",
              "        151, 152, 153, 154, 160, 161,  94, 123, 124, 125, 126, 127, 128,\n",
              "        129, 130, 131, 132, 133, 147, 148, 149, 150, 151, 152, 153, 154,\n",
              "        155, 121, 122, 123, 124, 125, 126, 127, 128, 129, 130, 131, 132,\n",
              "        133, 134, 146, 147, 148, 149, 150, 151, 152, 153, 154, 158, 106,\n",
              "        107, 108, 109, 120, 121, 122, 123, 124, 125, 126, 127, 128, 129,\n",
              "        130, 131, 132, 133, 134, 146, 147, 148, 149, 150, 151, 105, 106,\n",
              "        107, 108, 109, 110, 120, 121, 122, 123, 124, 125, 126, 127, 128,\n",
              "        129, 130, 131, 132, 133, 134, 135, 144, 145, 146, 147, 148, 149,\n",
              "        150, 159, 106, 107, 108, 109, 110, 121, 122, 123, 124, 125, 129,\n",
              "        130, 131, 132, 133, 134, 135, 136, 137, 141, 142, 143, 144, 145,\n",
              "        146, 147, 159, 160, 161, 171, 120, 121, 122, 123, 124, 125, 130,\n",
              "        131, 132, 133, 134, 135, 136, 137, 138, 139, 140, 141, 142, 143,\n",
              "        144, 145, 146, 120, 121, 122, 123, 124, 130, 131, 132, 133, 134,\n",
              "        135, 136, 137, 138, 139, 140, 117, 118, 119, 120, 121, 122, 123,\n",
              "        124, 131, 132, 133, 134, 135, 136, 137, 117, 118, 119, 120, 121,\n",
              "        122, 123, 131, 132, 133, 134, 135, 136, 137, 138, 117, 118, 119,\n",
              "        120, 121, 134, 135, 136, 137, 117, 118, 119, 120, 135, 136, 137,\n",
              "        134, 135, 136, 137, 151, 152, 155, 156, 157, 133, 134, 135, 150,\n",
              "        151, 152, 132, 133, 134, 135, 136, 145, 146, 150, 151, 125, 134,\n",
              "        135, 149, 150, 151, 130, 131, 132, 133, 130, 131, 132, 133, 129,\n",
              "        130, 131, 132, 123, 129, 130, 131, 132, 143, 144, 145, 128, 129,\n",
              "        130, 143, 144, 152, 153, 127, 128, 129, 118, 125, 126, 127, 128,\n",
              "        129, 125, 126, 127, 128, 125, 126, 127, 128, 125, 126, 121, 122,\n",
              "        120, 121, 122, 117, 118, 119, 120, 121, 122, 117, 118, 119, 120,\n",
              "        121, 117, 118, 119, 120, 116, 117, 118, 119, 120, 118, 119, 134,\n",
              "        118]))"
            ]
          },
          "metadata": {},
          "execution_count": 41
        }
      ]
    },
    {
      "cell_type": "markdown",
      "source": [
        "### Create a dataset with random sampling points of the obtained classification"
      ],
      "metadata": {
        "id": "LwW2d2as_ISD"
      },
      "id": "LwW2d2as_ISD"
    },
    {
      "cell_type": "code",
      "execution_count": null,
      "id": "b347f9a7-8d41-4ca4-8010-6a211d223ecf",
      "metadata": {
        "tags": [],
        "id": "b347f9a7-8d41-4ca4-8010-6a211d223ecf"
      },
      "outputs": [],
      "source": [
        "# Set the number of sampling points for each cluster\n",
        "num_points_per_cluster = 100\n",
        "\n",
        "# Initialize lists for storing the sampling points data\n",
        "points = []\n",
        "cluster_numbers = []\n",
        "\n",
        "# Ieration for generating the sampling points randomly\n",
        "for cluster_id in range(1, num_clusters + 1):\n",
        "    cluster_indices = np.where(classification == cluster_id)\n",
        "    sample_indices = random.sample(range(len(cluster_indices[0])), min(num_points_per_cluster, len(cluster_indices[0])))\n",
        "\n",
        "    for index in sample_indices:\n",
        "        row, col = cluster_indices[0][index], cluster_indices[1][index] # Gets the index of each pixel\n",
        "        x, y = rasterio.transform.xy(transform, row, col) # Extracts the coordinates from each pixel\n",
        "        points.append(Point(x, y))\n",
        "        cluster_numbers.append(cluster_id)\n",
        "\n",
        "\n",
        "# Create a GeoDataFrame from the points\n",
        "data = {'geometry': points, 'cluster': cluster_numbers}\n",
        "gdf = gpd.GeoDataFrame(data, crs=src.crs)\n",
        "\n",
        "# Save the GeoDataFrame to a shapefile\n",
        "output_shapefile = \"kmeans_random_points.shp\"\n",
        "gdf.to_file(output_shapefile)\n",
        "\n",
        "print(\"Random points saved to:\", output_shapefile)"
      ]
    },
    {
      "cell_type": "markdown",
      "source": [
        "### -"
      ],
      "metadata": {
        "id": "IyCTYCXT_gak"
      },
      "id": "IyCTYCXT_gak"
    },
    {
      "cell_type": "code",
      "execution_count": null,
      "id": "d66da10d-f55b-41f9-8ed5-90adbbbf75c6",
      "metadata": {
        "tags": [],
        "id": "d66da10d-f55b-41f9-8ed5-90adbbbf75c6"
      },
      "outputs": [],
      "source": [
        "modis_collection = MODIS\n",
        "#modis_collection = MODIS.filterDate(\"2022-01-01\", \"2022-01-31\") #prueba con pocas imagenes\n",
        "\n",
        "\n",
        "clusters = gdf[\"cluster\"].unique()\n",
        "\n",
        "# Create a function to extract NDVI values for a point\n",
        "def get_ndvi_for_point(feature):\n",
        "    point = feature.geometry()\n",
        "    ndvi_values = modis_collection.getRegion(point, scale=250).getInfo()\n",
        "    return ndvi_values\n",
        "\n",
        "# Loop through each cluster and extract NDVI values for each point\n",
        "ndvi_data = []\n",
        "\n",
        "for cluster in clusters:\n",
        "    cluster_gdf = gdf[gdf[\"cluster\"] == cluster]\n",
        "    for index, row in cluster_gdf.iterrows():\n",
        "        point = Point(row[\"geometry\"].x, row[\"geometry\"].y)\n",
        "        feature = ee.Feature(ee.Geometry.Point(point.x, point.y))\n",
        "        ndvi_values = get_ndvi_for_point(feature)\n",
        "\n",
        "        # Extract NDVI values for each scene\n",
        "        for scene_values in ndvi_values[1:]:\n",
        "            timestamp_milliseconds = int(scene_values[3])\n",
        "            timestamp_seconds = timestamp_milliseconds / 1000\n",
        "            dt_object = dt.utcfromtimestamp(timestamp_seconds)\n",
        "            formatted_date = dt_object.strftime('%Y-%m-%d')\n",
        "\n",
        "            scene_ndvi_values = scene_values[4:]\n",
        "            ndvi_data.append([cluster, point.x, point.y, formatted_date, *scene_ndvi_values])\n",
        "\n",
        "# Create a dataframe from the extracted data\n",
        "columns = [\"cluster\", \"longitude\", \"latitude\", \"date\"] + [\"NDVI\" + str(i) for i in range(1, len(ndvi_data[0]) - 3)]\n",
        "ndvi_df = pd.DataFrame(ndvi_data, columns=columns)\n",
        "\n",
        "# NOTA: este paso para el Delta tarda unas 2 horas"
      ]
    },
    {
      "cell_type": "code",
      "execution_count": null,
      "id": "81027c09-a405-4293-a6c5-26cb10b9aa04",
      "metadata": {
        "tags": [],
        "id": "81027c09-a405-4293-a6c5-26cb10b9aa04"
      },
      "outputs": [],
      "source": [
        "#llenar los NoData con -2000 (igual que hicimos en la imagen con unmask, ahora lo hace en la tabla)\n",
        "ndvi_df = ndvi_df.fillna(-2000)"
      ]
    },
    {
      "cell_type": "code",
      "execution_count": null,
      "id": "69e9675a-341d-41b2-9a11-046ba61627a0",
      "metadata": {
        "id": "69e9675a-341d-41b2-9a11-046ba61627a0"
      },
      "outputs": [],
      "source": [
        "# Display the dataFrame\n",
        "ndvi_df"
      ]
    },
    {
      "cell_type": "code",
      "execution_count": null,
      "id": "30c67057-b259-40e7-8e70-70c8f5620b27",
      "metadata": {
        "tags": [],
        "id": "30c67057-b259-40e7-8e70-70c8f5620b27"
      },
      "outputs": [],
      "source": [
        "# Pivot the DataFrame to have one column per date\n",
        "pivot_df = ndvi_df.pivot_table(\n",
        "    index=[\"cluster\", \"longitude\", \"latitude\"],\n",
        "    columns=\"date\",\n",
        "    values=[\"NDVI1\"],  # List all the NDVI columns here\n",
        "    aggfunc=\"first\"  # You can adjust the aggregation function if needed\n",
        ")\n",
        "\n",
        "# Reset the index to make columns regular columns\n",
        "pivot_df.reset_index(inplace=True)\n",
        "\n",
        "# Display the pivoted DataFrame\n",
        "pivot_df"
      ]
    },
    {
      "cell_type": "code",
      "execution_count": null,
      "id": "bbe91137-c3af-41a2-99d4-c73538800e1b",
      "metadata": {
        "tags": [],
        "id": "bbe91137-c3af-41a2-99d4-c73538800e1b"
      },
      "outputs": [],
      "source": [
        "#export\n",
        "pivot_df.to_csv(\"./kmeans_ndvi_pivot.csv\", index=False)\n",
        "\n",
        "ndvi_df.to_csv(\"./kmeans_ndvi.csv\", index=False)"
      ]
    }
  ],
  "metadata": {
    "kernelspec": {
      "display_name": "Python 3 (ipykernel)",
      "language": "python",
      "name": "python3"
    },
    "language_info": {
      "codemirror_mode": {
        "name": "ipython",
        "version": 3
      },
      "file_extension": ".py",
      "mimetype": "text/x-python",
      "name": "python",
      "nbconvert_exporter": "python",
      "pygments_lexer": "ipython3",
      "version": "3.11.0"
    },
    "colab": {
      "provenance": []
    }
  },
  "nbformat": 4,
  "nbformat_minor": 5
}